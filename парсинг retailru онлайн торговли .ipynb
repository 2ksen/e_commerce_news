{
 "cells": [
  {
   "cell_type": "code",
   "execution_count": 22,
   "id": "90d6a574",
   "metadata": {},
   "outputs": [],
   "source": [
    "# Импорт необходимых библиотек\n",
    "from selenium import webdriver\n",
    "from time import sleep\n",
    "from random import uniform\n",
    "from bs4 import BeautifulSoup\n",
    "from selenium.webdriver.common.keys import Keys\n",
    "import pandas as pd\n",
    "from re import sub\n",
    "from selenium.webdriver.common.by import By\n",
    "from tqdm.notebook import tqdm"
   ]
  },
  {
   "cell_type": "code",
   "execution_count": 23,
   "id": "f50b4a72",
   "metadata": {},
   "outputs": [
    {
     "name": "stderr",
     "output_type": "stream",
     "text": [
      "C:\\Users\\Family\\AppData\\Local\\Temp\\ipykernel_18584\\3384731264.py:7: DeprecationWarning: executable_path has been deprecated, please pass in a Service object\n",
      "  browser = webdriver.Chrome(executable_path = 'C:/Users/Family/Desktop/питон/chromedriver', chrome_options = options)\n",
      "C:\\Users\\Family\\AppData\\Local\\Temp\\ipykernel_18584\\3384731264.py:7: DeprecationWarning: use options instead of chrome_options\n",
      "  browser = webdriver.Chrome(executable_path = 'C:/Users/Family/Desktop/питон/chromedriver', chrome_options = options)\n"
     ]
    }
   ],
   "source": [
    "# Создание инструмента управления браузером при помощи Хромдрайвера\n",
    "options = webdriver.ChromeOptions()\n",
    "options.add_experimental_option(\"useAutomationExtension\", False)\n",
    "options.add_experimental_option(\"excludeSwitches\", [\"enable-automation\"])\n",
    "options.add_argument('--incognito')\n",
    "options.add_argument('--ignore-certificate-errors')\n",
    "browser = webdriver.Chrome(executable_path = 'C:/Users/Family/Desktop/питон/chromedriver', chrome_options = options)\n",
    "\n",
    "browser.maximize_window()\n",
    "\n",
    "# Выход на страницу сайта\n",
    "browser.get('https://www.retail.ru/news/theme/e-commerce-online-shopping/')\n",
    "\n",
    "#Переходим к новостям 2008 г\n",
    "browser.find_element(By.CSS_SELECTOR, '#content > div.col-lg-9.col-md-8.left-colom > div.news-page > div.calendar-choose-bl > button').click()\n",
    "browser.find_element(By.CSS_SELECTOR, '#content > div.col-lg-9.col-md-8.left-colom > div.news-page > div.calendar-choose-bl > ul > li:nth-child(1) > a').click()\n",
    "\n",
    "#Парсим данные за 2008 г\n",
    "pages08 = []\n",
    "pages08.append(browser.page_source)\n",
    "\n",
    "# Нажимаем на стрелочку для раскрытия всех годов\n",
    "browser.find_element(By.CSS_SELECTOR, '#content > div.col-lg-9.col-md-8.left-colom > div.news-page > div.calendar-choose-bl > button').click()\n"
   ]
  },
  {
   "cell_type": "code",
   "execution_count": 24,
   "id": "296a7061",
   "metadata": {},
   "outputs": [
    {
     "data": {
      "application/vnd.jupyter.widget-view+json": {
       "model_id": "6f9ec33693ae42ebb6035a29f42bdfa4",
       "version_major": 2,
       "version_minor": 0
      },
      "text/plain": [
       "  0%|          | 0/3 [00:00<?, ?it/s]"
      ]
     },
     "metadata": {},
     "output_type": "display_data"
    }
   ],
   "source": [
    "pages0911 = []\n",
    "\n",
    "#Через циклы сначала переходим к нужному году, парсим данные со всех страниц - 2009 - 2011\n",
    "for year in tqdm(range(2,5)):\n",
    "    browser.find_element(By.CSS_SELECTOR, '#content > div.col-lg-9.col-md-8.left-colom > div.news-page > div.calendar-choose-bl > ul > li:nth-child('+str(year)+') > a').click()\n",
    "    pages0911.append(browser.page_source)"
   ]
  },
  {
   "cell_type": "code",
   "execution_count": 25,
   "id": "1bfd15fe",
   "metadata": {},
   "outputs": [
    {
     "data": {
      "application/vnd.jupyter.widget-view+json": {
       "model_id": "d76630dd97f34a53a54af7dfaafe0872",
       "version_major": 2,
       "version_minor": 0
      },
      "text/plain": [
       "  0%|          | 0/3 [00:00<?, ?it/s]"
      ]
     },
     "metadata": {},
     "output_type": "display_data"
    }
   ],
   "source": [
    "pages12 = []\n",
    "\n",
    "#Переходим к 2012 году и парсим страницы \n",
    "browser.find_element(By.CSS_SELECTOR, '#content > div.col-lg-9.col-md-8.left-colom > div.news-page > div.calendar-choose-bl > ul > li:nth-child(5) > a').click()\n",
    "for year12 in tqdm(range(1,4)):\n",
    "    pages12.append(browser.page_source)\n",
    "    try:\n",
    "        browser.find_element(By.CSS_SELECTOR, '#content > div.col-lg-9.col-md-8.left-colom > div.news-page > div.pagination-wrap > ul > li:nth-child(5) > a').click()\n",
    "    except:\n",
    "        continue"
   ]
  },
  {
   "cell_type": "code",
   "execution_count": 26,
   "id": "c85de882",
   "metadata": {},
   "outputs": [
    {
     "data": {
      "application/vnd.jupyter.widget-view+json": {
       "model_id": "3994f12f21ad4f71a3c6987e10e02a3e",
       "version_major": 2,
       "version_minor": 0
      },
      "text/plain": [
       "  0%|          | 0/4 [00:00<?, ?it/s]"
      ]
     },
     "metadata": {},
     "output_type": "display_data"
    },
    {
     "data": {
      "application/vnd.jupyter.widget-view+json": {
       "model_id": "558876562d254114a246964a5b14c170",
       "version_major": 2,
       "version_minor": 0
      },
      "text/plain": [
       "  0%|          | 0/4 [00:00<?, ?it/s]"
      ]
     },
     "metadata": {},
     "output_type": "display_data"
    },
    {
     "data": {
      "application/vnd.jupyter.widget-view+json": {
       "model_id": "aad7fd71acb54cd4a73490e0ee011dcf",
       "version_major": 2,
       "version_minor": 0
      },
      "text/plain": [
       "  0%|          | 0/4 [00:00<?, ?it/s]"
      ]
     },
     "metadata": {},
     "output_type": "display_data"
    },
    {
     "data": {
      "application/vnd.jupyter.widget-view+json": {
       "model_id": "c6a17e20a38a4b778e6eadce72ff1b38",
       "version_major": 2,
       "version_minor": 0
      },
      "text/plain": [
       "  0%|          | 0/4 [00:00<?, ?it/s]"
      ]
     },
     "metadata": {},
     "output_type": "display_data"
    },
    {
     "data": {
      "application/vnd.jupyter.widget-view+json": {
       "model_id": "c43ab53778b34a1a905a31ee4e2dab30",
       "version_major": 2,
       "version_minor": 0
      },
      "text/plain": [
       "  0%|          | 0/4 [00:00<?, ?it/s]"
      ]
     },
     "metadata": {},
     "output_type": "display_data"
    }
   ],
   "source": [
    "pages1317 = []\n",
    "\n",
    "#Переходим к 2013-2017 году и парсим страницы \n",
    "for year1317 in range(6,11):\n",
    "    browser.find_element(By.CSS_SELECTOR, '#content > div.col-lg-9.col-md-8.left-colom > div.news-page > div.calendar-choose-bl > ul > li:nth-child('+str(year1317)+') > a').click()\n",
    "    for page_num in tqdm(range(1,5)):\n",
    "        pages1317.append(browser.page_source)\n",
    "        try:\n",
    "            browser.find_element(By.CSS_SELECTOR, '#content > div.col-lg-9.col-md-8.left-colom > div.news-page > div.pagination-wrap > ul > li:nth-child(6) > a').click()\n",
    "        except:\n",
    "            continue"
   ]
  },
  {
   "cell_type": "code",
   "execution_count": 27,
   "id": "5dab612c",
   "metadata": {},
   "outputs": [
    {
     "data": {
      "application/vnd.jupyter.widget-view+json": {
       "model_id": "824a898e575640d2a549b66e8fd47abd",
       "version_major": 2,
       "version_minor": 0
      },
      "text/plain": [
       "  0%|          | 0/6 [00:00<?, ?it/s]"
      ]
     },
     "metadata": {},
     "output_type": "display_data"
    }
   ],
   "source": [
    "pages18 = []\n",
    "\n",
    "#Переходим к 2018 году и парсим страницы \n",
    "browser.find_element(By.CSS_SELECTOR, '#content > div.col-lg-9.col-md-8.left-colom > div.news-page > div.calendar-choose-bl > ul > li:nth-child(11) > a').click()\n",
    "for year18 in tqdm(range(1,7)):\n",
    "    pages18.append(browser.page_source)\n",
    "    try:\n",
    "        browser.find_element(By.CSS_SELECTOR, '#content > div.col-lg-9.col-md-8.left-colom > div.news-page > div.pagination-wrap > ul > li:nth-child(7) > a').click()\n",
    "    except:\n",
    "        continue"
   ]
  },
  {
   "cell_type": "code",
   "execution_count": 28,
   "id": "7b229f29",
   "metadata": {},
   "outputs": [
    {
     "data": {
      "application/vnd.jupyter.widget-view+json": {
       "model_id": "aa4b55c41b7f4bf69b657fbb884b307d",
       "version_major": 2,
       "version_minor": 0
      },
      "text/plain": [
       "  0%|          | 0/9 [00:00<?, ?it/s]"
      ]
     },
     "metadata": {},
     "output_type": "display_data"
    },
    {
     "data": {
      "application/vnd.jupyter.widget-view+json": {
       "model_id": "566f5d0f15d74684907d7c11d54aa6d8",
       "version_major": 2,
       "version_minor": 0
      },
      "text/plain": [
       "  0%|          | 0/9 [00:00<?, ?it/s]"
      ]
     },
     "metadata": {},
     "output_type": "display_data"
    },
    {
     "data": {
      "application/vnd.jupyter.widget-view+json": {
       "model_id": "9a84576d536449edbe3f3edd45777804",
       "version_major": 2,
       "version_minor": 0
      },
      "text/plain": [
       "  0%|          | 0/9 [00:00<?, ?it/s]"
      ]
     },
     "metadata": {},
     "output_type": "display_data"
    },
    {
     "data": {
      "application/vnd.jupyter.widget-view+json": {
       "model_id": "83c91faa27a247169a08c70f01876ddf",
       "version_major": 2,
       "version_minor": 0
      },
      "text/plain": [
       "  0%|          | 0/9 [00:00<?, ?it/s]"
      ]
     },
     "metadata": {},
     "output_type": "display_data"
    }
   ],
   "source": [
    "pages1922 = []\n",
    "\n",
    "#Переходим к 2019-2022 году и парсим страницы \n",
    "for year1922 in range(12,16):\n",
    "    browser.find_element(By.CSS_SELECTOR, '#content > div.col-lg-9.col-md-8.left-colom > div.news-page > div.calendar-choose-bl > ul > li:nth-child('+str(year1922)+') > a').click()\n",
    "    for page_num2 in tqdm(range(1,10)):\n",
    "        pages1922.append(browser.page_source)\n",
    "        try:\n",
    "            browser.find_element(By.CSS_SELECTOR, '#content > div.col-lg-9.col-md-8.left-colom > div.news-page > div.pagination-wrap > ul > li:nth-child(8) > a').click()\n",
    "        except:\n",
    "            continue"
   ]
  },
  {
   "cell_type": "code",
   "execution_count": 31,
   "id": "2a88d3ac",
   "metadata": {},
   "outputs": [],
   "source": [
    "dates08 = []\n",
    "news_bloks08 = []\n",
    "\n",
    "for page08 in pages08:\n",
    "    for x1 in BeautifulSoup(page08).find('div', {'class':'news-page'}).findAll('div', {'class':'thematics__block--item'}):\n",
    "        d_list08 = x1.findAll('span', {'class':'thematics__block--count material-calendar'})\n",
    "        n_list08 = x1.findAll('div', {'class':'thematics__block--link'})\n",
    "        for d1 in d_list08:\n",
    "            dates08.append(d1.text.strip())\n",
    "        for n1 in n_list08:\n",
    "            news_bloks08.append(n1.text.strip())\n",
    "            \n",
    "pd.DataFrame(list(zip(dates08,news_bloks08))).to_excel('Новости retail ru 2008.xlsx')"
   ]
  },
  {
   "cell_type": "code",
   "execution_count": 32,
   "id": "0a9a30c2",
   "metadata": {},
   "outputs": [],
   "source": [
    "dates0911 = []\n",
    "news_bloks0911 = []\n",
    "\n",
    "for page0911 in pages0911:\n",
    "    for x2 in BeautifulSoup(page0911).find('div', {'class':'news-page'}).findAll('div', {'class':'thematics__block--item'}):\n",
    "        d_list0911 = x2.findAll('span', {'class':'thematics__block--count material-calendar'})\n",
    "        n_list0911 = x2.findAll('div', {'class':'thematics__block--link'})\n",
    "        for d2 in d_list0911:\n",
    "            dates0911.append(d2.text.strip())\n",
    "        for n2 in n_list0911:\n",
    "            news_bloks0911.append(n2.text.strip())\n",
    "            \n",
    "pd.DataFrame(list(zip(dates0911,news_bloks0911))).to_excel('Новости retail ru 2009-2011.xlsx')"
   ]
  },
  {
   "cell_type": "code",
   "execution_count": 33,
   "id": "c0fbd77d",
   "metadata": {},
   "outputs": [],
   "source": [
    "dates12 = []\n",
    "news_bloks12 = []\n",
    "\n",
    "for page12 in pages12:\n",
    "    for x3 in BeautifulSoup(page12).find('div', {'class':'news-page'}).findAll('div', {'class':'thematics__block--item'}):\n",
    "        d_list12 = x3.findAll('span', {'class':'thematics__block--count material-calendar'})\n",
    "        n_list12 = x3.findAll('div', {'class':'thematics__block--link'})\n",
    "        for d3 in d_list12:\n",
    "            dates12.append(d3.text.strip())\n",
    "        for n3 in n_list12:\n",
    "            news_bloks12.append(n3.text.strip())\n",
    "            \n",
    "pd.DataFrame(list(zip(dates12,news_bloks12))).to_excel('Новости retail ru 2012.xlsx')"
   ]
  },
  {
   "cell_type": "code",
   "execution_count": 34,
   "id": "694d5fda",
   "metadata": {},
   "outputs": [],
   "source": [
    "dates1317 = []\n",
    "news_bloks1317 = []\n",
    "\n",
    "for page1317 in pages1317:\n",
    "    for x4 in BeautifulSoup(page1317).find('div', {'class':'news-page'}).findAll('div', {'class':'thematics__block--item'}):\n",
    "        d_list1317 = x4.findAll('span', {'class':'thematics__block--count material-calendar'})\n",
    "        n_list1317 = x4.findAll('div', {'class':'thematics__block--link'})\n",
    "        for d4 in d_list1317:\n",
    "            dates1317.append(d4.text.strip())\n",
    "        for n4 in n_list1317:\n",
    "            news_bloks1317.append(n4.text.strip())\n",
    "            \n",
    "pd.DataFrame(list(zip(dates1317,news_bloks1317))).to_excel('Новости retail ru 2013-2017.xlsx')"
   ]
  },
  {
   "cell_type": "code",
   "execution_count": 35,
   "id": "8cd19fd9",
   "metadata": {},
   "outputs": [],
   "source": [
    "dates18 = []\n",
    "news_bloks18 = []\n",
    "\n",
    "for page18 in pages18:\n",
    "    for x5 in BeautifulSoup(page18).find('div', {'class':'news-page'}).findAll('div', {'class':'thematics__block--item'}):\n",
    "        d_list18 = x5.findAll('span', {'class':'thematics__block--count material-calendar'})\n",
    "        n_list18 = x5.findAll('div', {'class':'thematics__block--link'})\n",
    "        for d5 in d_list18:\n",
    "            dates18.append(d5.text.strip())\n",
    "        for n5 in n_list18:\n",
    "            news_bloks18.append(n5.text.strip())\n",
    "            \n",
    "pd.DataFrame(list(zip(dates18,news_bloks18))).to_excel('Новости retail ru 2018.xlsx')"
   ]
  },
  {
   "cell_type": "code",
   "execution_count": 36,
   "id": "917434ff",
   "metadata": {},
   "outputs": [],
   "source": [
    "dates1922 = []\n",
    "news_bloks1922 = []\n",
    "\n",
    "for page1922 in pages1922:\n",
    "    for x6 in BeautifulSoup(page1922).find('div', {'class':'news-page'}).findAll('div', {'class':'thematics__block--item'}):\n",
    "        d_list1922 = x6.findAll('span', {'class':'thematics__block--count material-calendar'})\n",
    "        n_list1922 = x6.findAll('div', {'class':'thematics__block--link'})\n",
    "        for d6 in d_list1922:\n",
    "            dates1922.append(d6.text.strip())\n",
    "        for n6 in n_list1922:\n",
    "            news_bloks1922.append(n6.text.strip())\n",
    "            \n",
    "pd.DataFrame(list(zip(dates1922,news_bloks1922))).to_excel('Новости retail ru 2019-2022.xlsx')"
   ]
  },
  {
   "cell_type": "code",
   "execution_count": null,
   "id": "995d1487",
   "metadata": {},
   "outputs": [],
   "source": []
  }
 ],
 "metadata": {
  "kernelspec": {
   "display_name": "Python 3 (ipykernel)",
   "language": "python",
   "name": "python3"
  },
  "language_info": {
   "codemirror_mode": {
    "name": "ipython",
    "version": 3
   },
   "file_extension": ".py",
   "mimetype": "text/x-python",
   "name": "python",
   "nbconvert_exporter": "python",
   "pygments_lexer": "ipython3",
   "version": "3.9.12"
  }
 },
 "nbformat": 4,
 "nbformat_minor": 5
}
